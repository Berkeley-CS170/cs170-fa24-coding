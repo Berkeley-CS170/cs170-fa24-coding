{
 "cells": [
  {
   "cell_type": "markdown",
   "id": "0c7c2298-c268-47b8-9bea-3a45b9a89fc7",
   "metadata": {},
   "source": [
    "## LPs and Max Flow/Min Cut"
   ]
  },
  {
   "cell_type": "markdown",
   "id": "15378acd",
   "metadata": {},
   "source": [
    "### If you're using Datahub:\n",
    "* Run the cell below **and restart the kernel if needed**\n",
    "\n",
    "### If you're running locally:\n",
    "You'll need to perform some extra setup.\n",
    "#### First-time setup\n",
    "* Install Anaconda following the instructions here: https://www.anaconda.com/products/distribution \n",
    "* Create a conda environment: `conda create -n cs170 python=3.10`\n",
    "* Activate the environment: `conda activate cs170`\n",
    "    * See for more details on creating conda environments https://conda.io/projects/conda/en/latest/user-guide/tasks/manage-environments.html\n",
    "* Install pip: `conda install pip`\n",
    "* Install jupyter: `conda install jupyter`\n",
    "\n",
    "#### Every time you want to work\n",
    "* Make sure you've activated the conda environment: `conda activate cs170`\n",
    "* Launch jupyter: `jupyter notebook` or `jupyter lab` \n",
    "* Run the cell below **and restart the kernel if needed**"
   ]
  },
  {
   "cell_type": "code",
   "execution_count": null,
   "id": "a5a8c1ed-54fe-430f-be63-235c4c1b8c16",
   "metadata": {},
   "outputs": [],
   "source": [
    "# Install dependencies\n",
    "# NOTE: if you have certain TSP solvers installed (for whatever reason), you may need to uninstall them\n",
    "# as they don't play nicely with new versions of networkx. If you are using Datahub, this is not an\n",
    "# issue for you (last tested: 10/27)\n",
    "!pip install -r requirements.txt --quiet"
   ]
  },
  {
   "cell_type": "code",
   "execution_count": null,
   "id": "31a77f95-3464-4169-828b-75e147c47a94",
   "metadata": {
    "tags": []
   },
   "outputs": [],
   "source": [
    "import otter\n",
    "assert (\n",
    "    otter.__version__ >= \"5.5.0\"\n",
    "), \"Please reinstall the requirements and restart your kernel.\"\n",
    "\n",
    "import numpy as np\n",
    "import networkx as nx\n",
    "import pulp\n",
    "import tqdm\n",
    "import pickle\n",
    "from collections import deque\n",
    "from unittest import mock\n",
    "\n",
    "grader = otter.Notebook(\"hw09.ipynb\")\n",
    "rng_seed = 0"
   ]
  },
  {
   "cell_type": "markdown",
   "id": "d6c4c09c",
   "metadata": {
    "deletable": false,
    "editable": false
   },
   "source": [
    "## Primer: Solving LPs with Python (Optional)\n",
    "<b> For this part, you don't have to submit anything, but you can use it to solve the LPs in Q5 of the written portion. </b>\n",
    "\n",
    "Here, we'll inroduce PuLP, which is a Python wrapper for various LP and integer LP solvers. In general, we'll treat the solver like a black box -- besides the Simplex algorithm we saw in class, you don't need to know any other LP solver algorithms or understand how PuLP works internally. In this question, we'll walk through the basics of formulating and solving LPs with PuLP."
   ]
  },
  {
   "cell_type": "markdown",
   "id": "c238cd49",
   "metadata": {
    "deletable": false,
    "editable": false
   },
   "source": [
    "As an example, let's say we want to solve the following LP:\n",
    "$$\\min_x \\quad 3 x_0 + 4 x_1 + 6 x_2$$\n",
    "<center> such that </center>\n",
    "\n",
    "$$x_0 + 2 x_1 \\ge 5$$\n",
    "$$|x_1 - x_2| \\le 2$$\n",
    "$$x_0 + 2x_1 + 3x_2 \\le 7$$\n",
    "$$x_0, x_1, x_2 \\ge 0$$"
   ]
  },
  {
   "cell_type": "markdown",
   "id": "da0d7843",
   "metadata": {
    "deletable": false,
    "editable": false
   },
   "source": [
    "First, we initialize a `pulp.LpProblem`. The constructor takes 2 arguments: \n",
    "1. The name of the problem (can be anything)\n",
    "2. An optimization direction (either `pulp.LpMinimize` or `pulp.LpMaximize`). "
   ]
  },
  {
   "cell_type": "code",
   "execution_count": null,
   "id": "90d0da90",
   "metadata": {
    "deletable": false,
    "editable": false
   },
   "outputs": [],
   "source": [
    "problem = pulp.LpProblem('example_1', pulp.LpMaximize)"
   ]
  },
  {
   "cell_type": "markdown",
   "id": "b77d5428",
   "metadata": {
    "deletable": false,
    "editable": false
   },
   "source": [
    "We can also change the optimization direction later using the `problem.sense` attribute."
   ]
  },
  {
   "cell_type": "code",
   "execution_count": null,
   "id": "7ed4ff31",
   "metadata": {
    "deletable": false,
    "editable": false
   },
   "outputs": [],
   "source": [
    "problem.sense = pulp.LpMinimize"
   ]
  },
  {
   "cell_type": "markdown",
   "id": "1fcbf598",
   "metadata": {
    "deletable": false,
    "editable": false
   },
   "source": [
    "Next, we define our *optimization variables*. The variable constructor takes in a name parameter, followed by a few keyword arguments. For our purposes, we'll just look at the keyword arguments `lowBound`. `lowBound` is optional - we can have variables with no lower bound by omitting the argument or setting `lowBound=None`.\n",
    "\n",
    "Not only does PuLP support defining single variables, but PuLP also supports defining multiple variables at once with the `dicts` method. This takes in an additional parameter `indices`, and returns a dictionary with elements of `indices` as keys and the PuLP variables as the values. `indices` could be any iterable, but here we'll use `range(3)` to make indexing easy. \n",
    "\n",
    "We'll also define an additional slack variable to deal with the absolute value constraint in our problem."
   ]
  },
  {
   "cell_type": "code",
   "execution_count": null,
   "id": "b39278b8",
   "metadata": {
    "deletable": false,
    "editable": false
   },
   "outputs": [],
   "source": [
    "# Optimization variables\n",
    "x = pulp.LpVariable.dicts(name='x', indices=range(3), lowBound=0)\n",
    "# Slack variable\n",
    "t = pulp.LpVariable(name='t', lowBound=0)"
   ]
  },
  {
   "cell_type": "markdown",
   "id": "df492074",
   "metadata": {
    "deletable": false,
    "editable": false
   },
   "source": [
    "After defining our variables, we must set the *objective function*. This should be an affine function, i.e. involving only a linear combination of the optimization variables plus some constant. To make indexing easier, we can also define a coefficient array and use a list comprehension (or generator expression). \n",
    "\n",
    "Recall that `x` was assigned using the `dicts` constructor, which returns a dictionary where each key-value pair is of the form `(variable_name, variable_object)`. When defining the objective function, we want to work with the variables themselves but don't care about the names, so we'll iterate over just the values of the dictionary."
   ]
  },
  {
   "cell_type": "code",
   "execution_count": null,
   "id": "fbca7a6c",
   "metadata": {
    "deletable": false,
    "editable": false
   },
   "outputs": [],
   "source": [
    "coeffs = [3, 4, 6]\n",
    "\n",
    "# objectives can be hard-coded or set using a list comprehension\n",
    "problem.setObjective(sum([c_i * x_i for c_i, x_i in zip(coeffs, x.values())]))\n",
    "\n",
    "# this statement is equally valid and functionally equivalent - the square brackets are optional in a sum expression\n",
    "problem.setObjective(sum(c_i * x_i for c_i, x_i in zip(coeffs, x.values())))"
   ]
  },
  {
   "cell_type": "markdown",
   "id": "22e53ded",
   "metadata": {
    "deletable": false,
    "editable": false
   },
   "source": [
    "Finally, we'll define our *constraints*. PuLP does not require our LPs to be expressed in canonical form, so we can directly write `<=`, `>=`, and `==` constraints. Notice how we handled the absolute value constraint by using a slack variable. Also note that the nonnegativity constraints were taken care of using `lowBound` when we defined our variables, so we don't need to repeat them here."
   ]
  },
  {
   "cell_type": "code",
   "execution_count": null,
   "id": "2a0fcc3d",
   "metadata": {
    "deletable": false,
    "editable": false
   },
   "outputs": [],
   "source": [
    "problem.addConstraint(x[0] + 2*x[1] >= 5)\n",
    "\n",
    "# handle the absolute value constraint using slack variables\n",
    "problem.addConstraint(t >= x[1] - x[2])\n",
    "problem.addConstraint(t >= -1*(x[1] - x[2]))\n",
    "problem.addConstraint(t <= 2)"
   ]
  },
  {
   "cell_type": "markdown",
   "id": "f594e08f",
   "metadata": {
    "deletable": false,
    "editable": false
   },
   "source": [
    "Just like when we set the objective function, if we are given a list of coefficients, we can quickly generate constraints using Python list comprehensions. Here, we use the `zip` function to iterate over the coefficients and the variables simultaneously.\n",
    "\n",
    "If you want a refresher on `zip` or list comprehensions, consider checking out the following:\n",
    "\n",
    "https://cs61a.org/study-guide/iterators/#generators \n",
    "\n",
    "https://cs61a.org/lab/lab04/#list-comprehensions"
   ]
  },
  {
   "cell_type": "code",
   "execution_count": null,
   "id": "aec2353c",
   "metadata": {
    "deletable": false,
    "editable": false
   },
   "outputs": [],
   "source": [
    "a = [1, 2, 3]\n",
    "\n",
    "# just like before, the following two lines are equivalent and are both valid. \n",
    "problem.addConstraint(sum([a_i * x_i for a_i, x_i in zip(a, x.values())]) <= 7)\n",
    "\n",
    "# the square brackets are optional here\n",
    "problem.addConstraint(sum(a_i * x_i for a_i, x_i in zip(a, x.values())) <= 7)"
   ]
  },
  {
   "cell_type": "markdown",
   "id": "bab2b368",
   "metadata": {
    "deletable": false,
    "editable": false
   },
   "source": [
    "We can print the problem to make sure our objective and constraints make sense:"
   ]
  },
  {
   "cell_type": "code",
   "execution_count": null,
   "id": "fbb66bff",
   "metadata": {
    "deletable": false,
    "editable": false
   },
   "outputs": [],
   "source": [
    "print(problem)"
   ]
  },
  {
   "cell_type": "markdown",
   "id": "f551bde8",
   "metadata": {
    "deletable": false,
    "editable": false
   },
   "source": [
    "To actually solve or LP, we just call `problem.solve()`. \n",
    "\n",
    "Here, we pass `pulp.PULP_CBC_CMD(msg=0)` into `problem.solve()` to suppress console outputs and avoid cluttering the notebook. This is totally optional and can be removed if you like.\n",
    "\n",
    "After optimizing, we should first check whether the solver found an optimal solution by checking `problem.status`. If `problem.status` is 1, then the solver found an optimal solution. Otherwise, the status will be different if the problem is infeasible, unbounded or if the solver otherwise fails. See the [documentation](https://www.coin-or.org/PuLP/constants.html#pulp.constants.LpStatus) for the full list of status values. \n",
    "\n",
    "If an optimal solution is found, we can get the optimum objective value from `problem.objective.value()` as shown below. The optimum variable values are stored in their respective variable objects.\n",
    "\n",
    "> **Note:** If the solver fails to find an optimal solution (for instance if the problem is infeasible), the solver will not throw an error. Instead, the solver will set `problem.status` to something other than 1 and the objective value and objective variables will be garbage. So make sure to check that `problem.status` is 1 before checking the objective value or accessing the decision variables."
   ]
  },
  {
   "cell_type": "code",
   "execution_count": null,
   "id": "58292f89",
   "metadata": {
    "deletable": false,
    "editable": false
   },
   "outputs": [],
   "source": [
    "problem.solve(pulp.PULP_CBC_CMD(msg=0))\n",
    "if problem.status == 1:\n",
    "    print(f'Optimal objective value: {problem.objective.value()}')\n",
    "else:\n",
    "    print(\"The solver couldn't find an optimal solution.\")"
   ]
  },
  {
   "cell_type": "markdown",
   "id": "801ad791",
   "metadata": {
    "deletable": false,
    "editable": false
   },
   "source": [
    "> **Exercise (optional)**: Try adding a new constraint which will make the LP infeasible, and see what happens when you try to solve it by rerunning the cell above."
   ]
  },
  {
   "cell_type": "code",
   "execution_count": null,
   "id": "00fde069",
   "metadata": {
    "tags": []
   },
   "outputs": [],
   "source": [
    "# add additional constraints here\n",
    "..."
   ]
  },
  {
   "cell_type": "markdown",
   "id": "e6b8aaf6",
   "metadata": {
    "deletable": false,
    "editable": false
   },
   "source": [
    "After solving, the we can use this code to extract the optimum variable values. `problem.variablesDict()` returns a dictionary of all variables which are used in our LP, and for each variable `v`, we can access `v.name` to see the variable's name or call `v.value()` to see its value."
   ]
  },
  {
   "cell_type": "code",
   "execution_count": null,
   "id": "924862f7",
   "metadata": {
    "tags": []
   },
   "outputs": [],
   "source": [
    "[(v.name, v.value()) for v in problem.variablesDict().values()]"
   ]
  },
  {
   "cell_type": "markdown",
   "id": "9a3d1457",
   "metadata": {
    "deletable": false,
    "editable": false
   },
   "source": [
    "we can also use `problem.variables()` to get a list of all variables, and iterate over them to get their names and values.\n",
    "> **Note:** Beware that this may not return variables in the order that you expect! (try changing $x$ to have dimension larger than 10 and see what happens)"
   ]
  },
  {
   "cell_type": "code",
   "execution_count": null,
   "id": "7f5bbde7",
   "metadata": {
    "deletable": false,
    "editable": false
   },
   "outputs": [],
   "source": [
    "[(v.name, v.value()) for v in problem.variables()]"
   ]
  },
  {
   "cell_type": "markdown",
   "id": "f7c4ca73",
   "metadata": {
    "deletable": false,
    "editable": false
   },
   "source": [
    "If you have any further questions about PuLP or if you want to see more examples, feel free to consult the [documentation](https://coin-or.github.io/pulp/)."
   ]
  },
  {
   "cell_type": "markdown",
   "id": "eb9f45ab",
   "metadata": {
    "deletable": false,
    "editable": false
   },
   "source": [
    "We can now use these tools to solve the LPs you wrote in Q5 of the written portion. This part will not be graded, so be sure to attach whatever you write here to your written submission!\n",
    "\n",
    "_Points:_ 0"
   ]
  },
  {
   "cell_type": "code",
   "execution_count": null,
   "id": "8056c307",
   "metadata": {
    "tags": []
   },
   "outputs": [],
   "source": [
    "prob_q5c = pulp.LpProblem('q5c')\n",
    "..."
   ]
  },
  {
   "cell_type": "code",
   "execution_count": null,
   "id": "f297d33c",
   "metadata": {
    "tags": []
   },
   "outputs": [],
   "source": [
    "prob_q5d = pulp.LpProblem('q5d')\n",
    "..."
   ]
  },
  {
   "cell_type": "markdown",
   "id": "41fd217f",
   "metadata": {},
   "source": [
    "## Max Flow/Min Cut"
   ]
  },
  {
   "cell_type": "markdown",
   "id": "df3228d1-459b-4895-84b3-ee4d2150bd14",
   "metadata": {},
   "source": [
    "Here, we will implement one well-defined implementation of Ford–Fulkerson algorithm: Edmonds–Karp algorithm.\n",
    "\n",
    "What Ford–Fulkerson does can be summarised as 3 steps:\n",
    "\n",
    "* Find an augmenting path in the graph\n",
    "* Construct the residual graph by augmenting the path based on the original graph and augmenting path.\n",
    "* Do this until no augmenting path can be found.\n",
    "\n",
    "Ford-Fulkerson is not always well-defined because there could be multiple ways of doing step 0: by DFS, by A* search, by some RL model that takes 200 RTX A6000 to train, or by magic......\n",
    "\n",
    "\n",
    "If we use BFS to find the augmenting path, this algorithm is called Edmonds–Karp algorithm which is what we will implement today.\n",
    "\n",
    "> Fun fact: Edmonds–Karp algorithm was first introduced by Soviet mathematician Yefim Dinitz/Dinic, yet Dinic's Algorithm is the name of a more efficient but more complicated algorithm for Network Flow problems (out of scope for CS170)."
   ]
  },
  {
   "cell_type": "code",
   "execution_count": null,
   "id": "69e14194-d215-4fcb-ae98-6596bda730be",
   "metadata": {},
   "outputs": [],
   "source": [
    "prng1 = np.random.default_rng(seed=rng_seed)\n",
    "\n",
    "# Load test cases\n",
    "file_path = \"generated_testcases.pkl\"\n",
    "\n",
    "# Load the variables from the pickle file\n",
    "with open(file_path, \"rb\") as file:\n",
    "    loaded_data = pickle.load(file)\n",
    "inputs, outputs = loaded_data"
   ]
  },
  {
   "cell_type": "code",
   "execution_count": null,
   "id": "9af285d9-3cd7-4b05-a6e2-4dd4daf71371",
   "metadata": {},
   "outputs": [],
   "source": [
    "def rand_graph(size=None):\n",
    "    \"\"\"\n",
    "    args:\n",
    "        size:int = number of vertices in randomly generated graph.\n",
    "    return:\n",
    "        nx.DiGraph that represents the randomly generated directed graph.\n",
    "    \"\"\"\n",
    "    if not size:\n",
    "        g = nx.gnp_random_graph(prng1.integers(16, 64), 0.25, seed=rng_seed, directed=True)\n",
    "    else:\n",
    "        g = nx.gnp_random_graph(size, 0.25, seed=rng_seed, directed=True)\n",
    "        \n",
    "    for u, v in g.edges:\n",
    "        g.edges[u, v][\"capacity\"] = int(prng1.integers(0, 50))\n",
    "    return g"
   ]
  },
  {
   "cell_type": "markdown",
   "id": "3b2bb8db",
   "metadata": {},
   "source": [
    "Since we're dealing with networkx graphs, you can use `networkx` functions to visualize the graphs:"
   ]
  },
  {
   "cell_type": "code",
   "execution_count": null,
   "id": "6eb41163-0453-48ce-8dd5-fca6c60bfbfc",
   "metadata": {},
   "outputs": [],
   "source": [
    "nx.draw_networkx(rand_graph(10), with_labels=True)"
   ]
  },
  {
   "cell_type": "markdown",
   "id": "c7d84a10-9fa3-4cc6-80b9-ec531cb0c067",
   "metadata": {},
   "source": [
    "### Augmenting Path\n",
    "First, you will implement the BFS portion of Edmonds–Karp algorithm.\n",
    "Given a graph and `s` and `t` vertices, find a augmenting path (a list of vertices from `s` to `t` **including** `s` and `t`) with BFS. If there's no augmenting `s-t` path, return `[]`.\n",
    "\n",
    "### Networkx tricks\n",
    "\n",
    "There are some `networkx` tricks you might want to use below to make your life way easier:\n",
    "\n",
    "To access the capacity from edge `(u, v)`, do `g.edges[u, v][\"capacity\"]`; by default, `capacity` is the only property of each edge, but if you choose to add more properties later on, you can access them in a similar way. Every edge has a capacity and (for this part), capacities are non-negative integers (but may be zero).\n",
    "\n",
    "To access outgoing edges from `c` like adjacency list, do `g.edges(c)`. Note the returned type is an iterable of vertex tuples, so you should do something like:\n",
    "\n",
    "```\n",
    "for u, v in g.edges(c):\n",
    "    e = g.edges[u, v]\n",
    "    print(e[\"capacity\"])\n",
    "```\n",
    "    \n",
    "We can also add additional properties to the edges. \n",
    "\n",
    "For example, if we want to denote that an edge has flow $f$ going through it, we could run `g.edges[u, v][\"flow\"] = f`. This method can also be used to update the flow of an edge which already has some flow going through it. \n",
    "\n",
    "(you could also do something like `g.add_edge(u, v, capacity=c, flow=f)` where `c` is the capacity of the edge and `f` is the flow going through the edge, but if you do this, you need to be careful to specify all existing properties of the edge; otherwise, this information will be lost). \n",
    "\n",
    "If you are not sure whether an edge exists, you can use `g.has_edge(u, v)` to check, and if you are not sure whether an edge has property `property`, you can use `property in g.edges[u, v]`.\n",
    "\n",
    "Although `g.edges[u, v]` looks like adjacency matrix, it is not; writing `g.edges[u][v]` is an error, and if `(u, v)` doesn't exist there would be `KeyError`."
   ]
  },
  {
   "cell_type": "markdown",
   "id": "452f79f6-0f91-4309-b382-161e012bd6fc",
   "metadata": {},
   "source": [
    "### Q1) Find Augmenting Path"
   ]
  },
  {
   "cell_type": "markdown",
   "id": "88b08a19-06be-48bc-8b4f-3cf2099d6206",
   "metadata": {
    "deletable": false,
    "editable": false
   },
   "source": [
    "**Task**\n",
    "* Given a graph represented via a networkx graph, use BFS to find the shortest augmenting path.\n",
    "* Return a list of nodes where the $i$-th element in this list is the $i$-th node on the $s$-$t$ path. The first and last nodes should be $s$ and $t$ respectively. The path you return should be the shortest augmenting path from $s$ to $t$.\n",
    "* If there are multiple shortest augmenting paths, return any of them.\n",
    "* If no such path is available, return an empty list.\n",
    "\n",
    "If you need a FIFO queue, we recommend Python's built-in `deque`. You can read more about `deque` [here](https://docs.python.org/3/library/collections.html#collections.deque)."
   ]
  },
  {
   "cell_type": "markdown",
   "id": "b829a698",
   "metadata": {
    "deletable": false,
    "editable": false
   },
   "source": [
    "**Autograding note:** The test cases in this part assumes that an edge can be included if the `capacity` of the edge is greater than 0. \n",
    "Depending on how you choose to represent flows in your graph, you may choose to modify this behavior later on. \n",
    "\n",
    "If you modify `bfs_augmenting_path` in a way that breaks the autograder for Q1, you can set `modified_augmenting_path` to `True` and the autograder \n",
    "will skip the Q1 test cases and replace your Q1 score with your score for Q2. "
   ]
  },
  {
   "cell_type": "code",
   "execution_count": null,
   "id": "ef734384",
   "metadata": {
    "tags": []
   },
   "outputs": [],
   "source": [
    "# If you modify bfs_augmenting_path in a way that breaks\n",
    "# the autograder and you want to replace your Q1 score\n",
    "# with your Q2 score, set this to True. \n",
    "# Otherwise, leave it as False.\n",
    "modified_augmenting_path = False"
   ]
  },
  {
   "cell_type": "code",
   "execution_count": null,
   "id": "fec4d01b-d941-4815-9447-3ecabbdc8df3",
   "metadata": {
    "tags": []
   },
   "outputs": [],
   "source": [
    "def bfs_augmenting_path(g, s, t):\n",
    "    \"\"\"\n",
    "    args:\n",
    "        g:nx.DiGraph = directed network flow graph\n",
    "        s:int = source node s\n",
    "        t:int = sink node t\n",
    "    return:\n",
    "        List[int] representing the augmenting path that BFS finds. First \n",
    "            and last nodes should be s and t respectively. Return [] if \n",
    "            path doesn't exist. Ex: [s, a, b, t] if (s, a), (a, b), (b, t)\n",
    "            is the shortest length augmenting path.\n",
    "    \"\"\"\n",
    "    ..."
   ]
  },
  {
   "cell_type": "markdown",
   "id": "3603b41e",
   "metadata": {
    "deletable": false,
    "editable": false
   },
   "source": [
    "## Debugging\n",
    "A simplified set of test cases is provided below. You can use these to test your implementation. Feel free to add your own test cases to further test your code.\n",
    "\n",
    "**Warning: Make sure you are not overwriting the provided test cases! If you want to modify the provided graphs, ensure you copy them first by calling `g.copy()`.**\n",
    "The provided test cases provide your function with copies of the graphs, so you can modify them without affecting the original graph.\n",
    "\n",
    "_Points:_ 3"
   ]
  },
  {
   "cell_type": "code",
   "execution_count": null,
   "id": "9b9c87f8",
   "metadata": {
    "deletable": false,
    "editable": false
   },
   "outputs": [],
   "source": [
    "for i in tqdm.tqdm(range(0, len(inputs['q1'])), desc =\"Testing handmade graphs:\"):\n",
    "    g, s, t = inputs['q1'][i]\n",
    "    path_student = bfs_augmenting_path(g.copy(), s, t) \n",
    "\n",
    "    admissable_subgraph = nx.subgraph_view(g, filter_edge=lambda u, v: g.edges[u, v][\"capacity\"] > 0)\n",
    "    \n",
    "    if not nx.has_path(admissable_subgraph, s, t):\n",
    "        assert len(path_student) == 0, f\"you returned an augmenting s-t path when there isn't one.\"\n",
    "    else:\n",
    "        # checks that the path returned is a valid simple path in the graph\n",
    "        # checks that the path starts at s and ends at t\n",
    "        # checks that the path is the shortest path from s to t\n",
    "        assert nx.is_simple_path(admissable_subgraph, path_student), f\"you did not return a valid simple augmenting path\"\n",
    "        assert path_student[0] == s, f\"your path does not start at s\"\n",
    "        assert path_student[-1] == t, f\"your path does not end at t\"\n",
    "        shortest_path_len = nx.shortest_path_length(admissable_subgraph, s, t, weight=None)\n",
    "        assert len(path_student) == shortest_path_len + 1, f\"your path is not a shortest path from s to t\"\n",
    "print(\"Test cases passed!\")"
   ]
  },
  {
   "cell_type": "code",
   "execution_count": null,
   "id": "79adafee",
   "metadata": {
    "deletable": false,
    "editable": false
   },
   "outputs": [],
   "source": [
    "grader.check(\"q1\")"
   ]
  },
  {
   "cell_type": "markdown",
   "id": "ed7a1433-621f-4261-b31a-b669d7bf0bbf",
   "metadata": {},
   "source": [
    "### Q2) Edmonds-Karp\n",
    "\n",
    "Now, implement Edmonds-Karp with the functions you made above:\n",
    "\n",
    "1. Find an augmenting path in the graph (with `bfs_augmenting_path`)\n",
    "2. Construct the residual graph by augmenting the path based on the original graph and augmenting path.\n",
    "3. Do this until no augmenting path can be found.\n",
    "\n",
    "If you want to, you may modify your `bfs_augmenting_path` however you need. \n",
    "\n",
    "Return the capacity and the final residual graph. You may modify the graph however you like to track flow and residual capacity, but make sure that:\n",
    "1. In the output graph, every edge that you push flow through has a `flow` property which is equal to the flow pushed through that edge. If you add additional edges to the graph, ensure that they either lack a `flow` property or have a `flow` property of 0 (e.g. if you add reverse edges to the graph, ensure you do not try to push flow through them in your final solution).\n",
    "2. **If you write your own test cases, do not overwrite the provided graphs**."
   ]
  },
  {
   "cell_type": "markdown",
   "id": "b3700079-293d-49b8-a8ed-42f55fec002b",
   "metadata": {},
   "source": [
    "> *Hint:* You may find it helpful to fill in the helper function `augment` which takes in a grap and a path and augments the flow along that path by as much as possible."
   ]
  },
  {
   "cell_type": "code",
   "execution_count": null,
   "id": "1a475c86-f172-44f9-bc80-b51348b11a09",
   "metadata": {
    "tags": []
   },
   "outputs": [],
   "source": [
    "def edmonds_karp(g, s, t):\n",
    "    \"\"\"\n",
    "    args:\n",
    "        g:nx.DiGraph = directed network flow graph\n",
    "        s:int = source node s\n",
    "        t:int = sink node t\n",
    "    return:\n",
    "        Tuple(int, nx.DiGraph) where the first value represents the max flow that\n",
    "            was successfully pushed, and the second value represents the graph\n",
    "            where the flow values along each edge represents the flow pushed through\n",
    "            that edge.\n",
    "    \"\"\"    \n",
    "    # TODO: Implement the augment helper function (optional).\n",
    "    # You may modify the function signature or delete the function entirely if you want. \n",
    "    def augment(g, path):\n",
    "        pass\n",
    "    \n",
    "    # Use the augment function to compute the max flow\n",
    "    ...\n",
    "    return flow, g"
   ]
  },
  {
   "cell_type": "code",
   "execution_count": null,
   "id": "8d4b5535",
   "metadata": {
    "deletable": false,
    "editable": false
   },
   "outputs": [],
   "source": [
    "grader.check(\"q2\")"
   ]
  },
  {
   "cell_type": "markdown",
   "id": "4117d04e",
   "metadata": {},
   "source": [
    "## Debugging\n",
    "A simplified set of test cases is provided below. You can use these to test your implementation. Feel free to add your own test cases to further test your code.\n",
    "\n",
    "**Warning: Make sure you are not overwriting the provided test cases! If you want to modify the provided graphs, ensure you copy them first by calling `g.copy()`.**\n",
    "The provided test cases provide your function with copies of the graphs, so you can modify them without affecting the original graph."
   ]
  },
  {
   "cell_type": "code",
   "execution_count": null,
   "id": "a03cf08f",
   "metadata": {},
   "outputs": [],
   "source": [
    "for i in tqdm.tqdm(range(0, len(inputs['q1'])), desc =\"Testing handmade graphs:\"):\n",
    "    g, s, t = inputs['q2'][i]\n",
    "\n",
    "    flow_student, g_student = edmonds_karp(g.copy(), s, t)\n",
    "\n",
    "    for u, v in g_student.edges:\n",
    "        assert g.has_edge(u, v) or g_student[u, v].get(\"flow\", 0) == 0, f\"You are pushing flow through a non-existent edge\"\n",
    "        assert g_student.edges[u, v][\"flow\"] <= g.edges[u, v][\"capacity\"], f\"Your flow exceeds the capacity of an edge\"\n",
    "\n",
    "    for v in g_student.nodes:\n",
    "        flow_in = sum(g_student.edges[u, v].get(\"flow\", 0) for u, v in g_student.in_edges(v, data=False))\n",
    "        flow_out = sum(g_student.edges[v, u].get(\"flow\", 0) for v, u in g_student.out_edges(v, data=False))\n",
    "        assert (flow_in == flow_out) or (v == s) or (v == t), f\"Flow conservation is not satisfied at node {v}\"\n",
    "\n",
    "    start_flow = sum(g_student.edges[s, v].get(\"flow\", 0) for _, v in g.out_edges(s, data=False))\n",
    "    end_flow = sum(g_student.edges[u, t].get(\"flow\", 0) for u, _ in g.in_edges(t, data=False))\n",
    "    assert start_flow == end_flow == flow_student, f\"Max flow value does not match flow values in the graph\"\n",
    "\n",
    "    max_flow_val = nx.maximum_flow_value(g, s, t)\n",
    "    assert flow_student == max_flow_val, f\"Your flow is not maximal\"\n",
    "print(\"Test cases passed!\")"
   ]
  },
  {
   "cell_type": "markdown",
   "id": "e8d84180-2a3f-4cdc-be2e-bc8e4248fbae",
   "metadata": {},
   "source": [
    "### Q3) Min-Cut"
   ]
  },
  {
   "cell_type": "markdown",
   "id": "f1cc311e-5660-40d3-b39b-d010abec9b2a",
   "metadata": {},
   "source": [
    "Recall that the dual of the Max-Flow problem is the Min-Cut problem. In the Min-Cut problem, we are given a network, and we wish to find a vertex cut of this graph, $(S, T)$ where $S \\cup T = V,$ $S \\cap T = \\emptyset,$ $s \\in S, t \\in T$ such that the sum of the capacities of the edges spanning this cut is minimized. \n",
    "\n",
    "Here, we'll see how, given a solution to the max-flow problem on a graph, we can easily find the min cut. Implement `find_min_cut` to find the minimum S-T cut of this graph (which also yields the edges with saturated flow). Make sure to return all the vertices that belong to the $S$ partition of the cut."
   ]
  },
  {
   "cell_type": "code",
   "execution_count": null,
   "id": "0f3f3fce-e596-47fe-8eb3-a258ec80bee3",
   "metadata": {
    "tags": []
   },
   "outputs": [],
   "source": [
    "def find_min_cut(g, s, t):\n",
    "    \"\"\"\n",
    "    args:\n",
    "        g:nx.DiGraph = directed network flow graph\n",
    "        s:int = source node s\n",
    "        t:int = sink node t\n",
    "    return:\n",
    "        Set(int) that contains all vertices in the min cut of g that includes s.\n",
    "    \"\"\"\n",
    "    vertex_cut_s = set([s])\n",
    "    flow, graph = edmonds_karp(g, s, t)\n",
    "    ...\n",
    "    return vertex_cut_s"
   ]
  },
  {
   "cell_type": "code",
   "execution_count": null,
   "id": "73dd3064",
   "metadata": {
    "deletable": false,
    "editable": false
   },
   "outputs": [],
   "source": [
    "grader.check(\"q3\")"
   ]
  },
  {
   "cell_type": "markdown",
   "id": "4f5d1cb8",
   "metadata": {},
   "source": [
    "## Debugging\n",
    "A simplified set of test cases is provided below. You can use these to test your implementation. Feel free to add your own test cases to further test your code.\n",
    "\n",
    "**Warning: Make sure you are not overwriting the provided test cases! If you want to modify the provided graphs, ensure you copy them first by calling `g.copy()`.**\n",
    "The provided test cases provide your function with copies of the graphs, so you can modify them without affecting the original graph."
   ]
  },
  {
   "cell_type": "code",
   "execution_count": null,
   "id": "f4b66d8c",
   "metadata": {},
   "outputs": [],
   "source": [
    "def check_correctness(student_cut, g, s, t):\n",
    "    assert min_cut_student.issubset(g.nodes), f\"Your partition contains nodes that are not in the graph\"\n",
    "    assert s in min_cut_student, f\"Your partition does not include the source node\"\n",
    "    assert t not in min_cut_student, f\"Your partition includes both the source and sink nodes\"\n",
    "\n",
    "    # ensure optimality\n",
    "    cut_size_student = 0\n",
    "    for u, v in g.edges:\n",
    "        if u in min_cut_student and v not in min_cut_student:\n",
    "            cut_size_student += g.edges[u, v][\"capacity\"]\n",
    "\n",
    "    min_cut_val = nx.minimum_cut_value(g, s, t)\n",
    "    assert cut_size_student == min_cut_val, f\"Your cut is not the minimum cut\"\n",
    "\n",
    "for i in tqdm.tqdm(range(0, len(inputs['q3'])), desc =\"Testing handmade graphs:\"):\n",
    "    g, s, t = inputs['q3'][i]\n",
    "    min_cut_student = set(find_min_cut(g.copy(), s, t)) \n",
    "    check_correctness(min_cut_student, g, s, t)"
   ]
  },
  {
   "cell_type": "markdown",
   "id": "b6709456",
   "metadata": {
    "deletable": false,
    "editable": false
   },
   "source": [
    "## Submission\n",
    "\n",
    "Make sure you have run all cells in your notebook in order before running the cell below, so that all images/graphs appear in the output. The cell below will generate a zip file for you to submit."
   ]
  },
  {
   "cell_type": "code",
   "execution_count": null,
   "id": "d63ee43e",
   "metadata": {
    "deletable": false,
    "editable": false
   },
   "outputs": [],
   "source": [
    "grader.export(pdf=False, force_save=True)"
   ]
  },
  {
   "cell_type": "markdown",
   "id": "d1748fb4",
   "metadata": {},
   "source": [
    " "
   ]
  }
 ],
 "metadata": {
  "kernelspec": {
   "display_name": "cs170-fa24",
   "language": "python",
   "name": "python3"
  },
  "language_info": {
   "codemirror_mode": {
    "name": "ipython",
    "version": 3
   },
   "file_extension": ".py",
   "mimetype": "text/x-python",
   "name": "python",
   "nbconvert_exporter": "python",
   "pygments_lexer": "ipython3",
   "version": "3.11.9"
  },
  "otter": {
   "OK_FORMAT": false,
   "assignment_name": "hw09",
   "tests": {
    "q1": "from otter.test_files import test_case\n\nOK_FORMAT = False\n\nname = \"q1\"\npoints = 3\n\n@test_case(points=None, hidden=False)\ndef test_bfs_augmenting_path(bfs_augmenting_path, modified_augmenting_path, inputs, outputs, tqdm, rng_seed, mock, np, nx):\n    class SkippingTestWarning(Exception):\n        def __init__(self, message):\n            # Initialize with a prefix or special indicator to show it's not a critical error\n            super().__init__(f\"[Warning] {message}\")\n\n        def __str__(self):\n            # Customize the display message further if desired\n            return self.args[0]\n\n    if modified_augmenting_path:\n        raise SkippingTestWarning(\"You have indicated that you modified your bfs_augmenting_path function. Skipping tests.\\n\" \\\n            + \"\\tYour Q1 score will be replaced by your Q2 score.\\n\" \\\n            + \"\\tThis is not an error. If you did not intend to skip these tests, please set modified_augmenting_path to False.\\n\")\n\n    rng = np.random.default_rng(rng_seed)\n    N_RANDOM_TESTS = 100\n\n    for i in tqdm.tqdm(range(0, len(inputs['q1'])), desc =\"Testing handmade graphs:\"):\n        g, s, t = inputs['q1'][i]\n        with mock.patch(\"networkx.algorithms.flow.shortest_augmenting_path\", side_effect=RuntimeError(\"Don't use built-in flow or BFS functions!\")), \\\n        mock.patch(\"networkx.algorithms.traversal.bfs_edges\", side_effect=RuntimeError(\"Don't use built-in flow or BFS functions!\")):\n            path_student = bfs_augmenting_path(g.copy(), s, t) \n\n        admissable_subgraph = nx.subgraph_view(g, filter_edge=lambda u, v: g.edges[u, v][\"capacity\"] > 0)\n        \n        if not nx.has_path(admissable_subgraph, s, t):\n            assert len(path_student) == 0, f\"you returned an augmenting s-t path when there isn't one.\"\n        else:\n            # checks that the path returned is a valid simple path in the graph\n            # checks that the path starts at s and ends at t\n            # checks that the path is the shortest path from s to t\n            assert nx.is_simple_path(admissable_subgraph, path_student), f\"you did not return a valid simple augmenting path\"\n            assert path_student[0] == s, f\"your path does not start at s\"\n            assert path_student[-1] == t, f\"your path does not end at t\"\n            shortest_path_len = nx.shortest_path_length(admissable_subgraph, s, t, weight=None)\n            assert len(path_student) == shortest_path_len + 1, f\"your path is not a shortest path from s to t\"\n            \n\n    for i in tqdm.tqdm(range(N_RANDOM_TESTS), desc=\"Testing random graphs:\"):\n        size = rng.integers(16, 128)\n        p = max(0.25, rng.random())\n        g = nx.gnp_random_graph(size, p, seed=rng_seed, directed=True)\n        for u, v in g.edges:\n            g.edges[u, v][\"capacity\"] = rng.integers(0, size)\n        s, t = rng.choice(size, 2, replace=False)\n\n        with mock.patch(\"networkx.algorithms.flow.shortest_augmenting_path\", side_effect=RuntimeError(\"Don't use built-in flow or BFS functions!\")), \\\n        mock.patch(\"networkx.algorithms.traversal.bfs_edges\", side_effect=RuntimeError(\"Don't use built-in flow or BFS functions!\")):\n            path_student = bfs_augmenting_path(g.copy(), s, t) \n\n        admissable_subgraph = nx.subgraph_view(g, filter_edge=lambda u, v: g.edges[u, v][\"capacity\"] > 0)\n        \n        if not nx.has_path(admissable_subgraph, s, t):\n            assert len(path_student) == 0, f\"you returned an augmenting s-t path when there isn't one.\"\n        else:\n            # checks that the path returned is a valid simple path in the graph\n            # checks that the path starts at s and ends at t\n            # checks that the path is the shortest path from s to t\n            assert nx.is_simple_path(admissable_subgraph, path_student), f\"you did not return a valid simple augmenting path\"\n            assert path_student[0] == s, f\"your path does not start at s\"\n            assert path_student[-1] == t, f\"your path does not end at t\"\n            shortest_path_len = nx.shortest_path_length(admissable_subgraph, s, t, weight=None)\n            assert len(path_student) == shortest_path_len + 1, f\"your path is not a shortest path from s to t\"\n\n",
    "q1 replacement": "from otter.test_files import test_case\n\nOK_FORMAT = False\n\nname = \"q1 replacement\"\npoints = 3\n\n",
    "q2": "from otter.test_files import test_case\n\nOK_FORMAT = False\n\nname = \"q2\"\npoints = 4\n\n@test_case(points=None, hidden=False)\ndef test_max_flow(edmonds_karp, inputs, outputs, tqdm, rng_seed, mock, np, nx):\n    rng = np.random.default_rng(rng_seed)\n    N_RANDOM_TESTS = 100\n\n    for i in tqdm.tqdm(range(0, len(inputs['q1'])), desc =\"Testing handmade graphs:\"):\n        g, s, t = inputs['q2'][i]\n        with mock.patch(\"networkx.algorithms.flow\", new=mock.Mock(RuntimeError(\"Don't use built-in flow or BFS functions!\"))), \\\n        mock.patch(\"networkx.algorithms.traversal.bfs_edges\", side_effect=RuntimeError(\"Don't use built-in flow or BFS functions!\")):\n            flow_student, g_student = edmonds_karp(g.copy(), s, t)\n\n        for u, v in g_student.edges:\n            assert g.has_edge(u, v) or g_student[u, v].get(\"flow\", 0) == 0, f\"You are pushing flow through a non-existent edge\"\n            assert g_student.edges[u, v][\"flow\"] <= g.edges[u, v][\"capacity\"], f\"Your flow exceeds the capacity of an edge\"\n\n        for v in g_student.nodes:\n            flow_in = sum(g_student.edges[u, v].get(\"flow\", 0) for u, v in g_student.in_edges(v, data=False))\n            flow_out = sum(g_student.edges[v, u].get(\"flow\", 0) for v, u in g_student.out_edges(v, data=False))\n            assert (flow_in == flow_out) or (v == s) or (v == t), f\"Flow conservation is not satisfied at node {v}\"\n\n        start_flow = sum(g_student.edges[s, v].get(\"flow\", 0) for _, v in g.out_edges(s, data=False))\n        end_flow = sum(g_student.edges[u, t].get(\"flow\", 0) for u, _ in g.in_edges(t, data=False))\n        assert start_flow == end_flow == flow_student, f\"Max flow value does not match flow values in the graph\"\n\n        max_flow_val = nx.maximum_flow_value(g, s, t)\n        assert flow_student == max_flow_val, f\"Your flow is not maximal\"\n            \n\n    for i in tqdm.tqdm(range(N_RANDOM_TESTS), desc=\"Testing random graphs:\"):\n        size = rng.integers(16, 64)\n        p = max(0.1, rng.random())\n        g = nx.gnp_random_graph(size, p, seed=rng_seed, directed=True)\n        for u, v in g.edges:\n            g.edges[u, v][\"capacity\"] = rng.integers(0, size)\n        s, t = map(int, rng.choice(size, 2, replace=False))\n\n        with mock.patch(\"networkx.algorithms.flow\", new=mock.Mock(RuntimeError(\"Don't use built-in flow or BFS functions!\"))), \\\n        mock.patch(\"networkx.algorithms.traversal.bfs_edges\", side_effect=RuntimeError(\"Don't use built-in flow or BFS functions!\")):\n            flow_student, g_student = edmonds_karp(g.copy(), s, t)\n\n        for u, v in g_student.edges:\n            assert g.has_edge(u, v) or g_student[u, v].get(\"flow\", 0) == 0, f\"You are pushing flow through a non-existent edge\"\n            assert g_student.edges[u, v][\"flow\"] <= g.edges[u, v][\"capacity\"], f\"Your flow exceeds the capacity of an edge\"\n\n        for v in g_student.nodes:\n            flow_in = sum(g_student.edges[u, v].get(\"flow\", 0) for u, v in g_student.in_edges(v, data=False))\n            flow_out = sum(g_student.edges[v, u].get(\"flow\", 0) for v, u in g_student.out_edges(v, data=False))\n            assert (flow_in == flow_out) or (v == s) or (v == t), f\"Flow conservation is not satisfied at node {v}\"\n\n        start_flow = sum(g_student.edges[s, v].get(\"flow\", 0) for _, v in g.out_edges(s, data=False))\n        end_flow = sum(g_student.edges[u, t].get(\"flow\", 0) for u, _ in g.in_edges(t, data=False))\n        assert start_flow == end_flow == flow_student, f\"Max flow value does not match flow values in the graph\"\n\n        max_flow_val = nx.maximum_flow_value(g, s, t)\n        assert flow_student == max_flow_val, f\"Your flow is not maximal\"\n\n",
    "q3": "from otter.test_files import test_case\n\nOK_FORMAT = False\n\nname = \"q3\"\npoints = 3\n\n@test_case(points=None, hidden=False)\ndef test_min_cut(find_min_cut, edmonds_karp, inputs, outputs, tqdm, rng_seed, mock, np, nx):\n    rng = np.random.default_rng(rng_seed)\n    N_RANDOM_TESTS = 100\n\n    def check_correctness(student_cut, g, s, t):\n        # ensure valid cut\n        assert min_cut_student.issubset(g.nodes), f\"Your partition contains nodes that are not in the graph\"\n        assert s in min_cut_student, f\"Your partition does not include the source node\"\n        assert t not in min_cut_student, f\"Your partition includes both the source and sink nodes\"\n\n        # ensure optimality\n        cut_size_student = 0\n        for u, v in g.edges:\n            if u in min_cut_student and v not in min_cut_student:\n                cut_size_student += g.edges[u, v][\"capacity\"]\n\n        min_cut_val = nx.minimum_cut_value(g, s, t)\n        assert cut_size_student == min_cut_val, f\"Your cut is not the minimum cut\"\n\n    for i in tqdm.tqdm(range(0, len(inputs['q3'])), desc =\"Testing handmade graphs:\"):\n        g, s, t = inputs['q3'][i]\n        with mock.patch(\"networkx.algorithms.flow\", side_effect=RuntimeError(\"Don't use built-in flow or BFS functions!\")), \\\n        mock.patch(\"networkx.algorithms.traversal.bfs_edges\", side_effect=RuntimeError(\"Don't use built-in flow or BFS functions!\")):\n            min_cut_student = set(find_min_cut(g.copy(), s, t)) # type coercion in case they change the skeleton code     \n        check_correctness(min_cut_student, g, s, t)\n\n    for i in tqdm.tqdm(range(N_RANDOM_TESTS), desc=\"Testing random graphs:\"):\n        size = rng.integers(16, 64)\n        p = max(0.1, rng.random())\n        g = nx.gnp_random_graph(size, p, seed=rng_seed, directed=True)\n        for u, v in g.edges:\n            g.edges[u, v][\"capacity\"] = rng.integers(0, size)\n        s, t = map(int, rng.choice(size, 2, replace=False))\n\n        with mock.patch(\"networkx.algorithms.flow\", side_effect=RuntimeError(\"Don't use built-in flow or BFS functions!\")), \\\n        mock.patch(\"networkx.algorithms.traversal.bfs_edges\", side_effect=RuntimeError(\"Don't use built-in flow or BFS functions!\")):\n            min_cut_student = set(find_min_cut(g.copy(), s, t)) # type coercion in case they change the skeleton code\n        check_correctness(min_cut_student, g, s, t)\n\n\n"
   }
  }
 },
 "nbformat": 4,
 "nbformat_minor": 5
}
