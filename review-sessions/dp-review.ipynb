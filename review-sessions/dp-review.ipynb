{
 "cells": [
  {
   "cell_type": "code",
   "execution_count": 52,
   "metadata": {},
   "outputs": [],
   "source": [
    "!pip install networkx matplotlib numpy --quiet"
   ]
  },
  {
   "cell_type": "code",
   "execution_count": 2,
   "metadata": {},
   "outputs": [],
   "source": [
    "import networkx as nx\n",
    "import numpy as np\n",
    "import matplotlib.pyplot as plt"
   ]
  },
  {
   "cell_type": "markdown",
   "metadata": {},
   "source": [
    "### All Pairs Shortest Paths"
   ]
  },
  {
   "cell_type": "code",
   "execution_count": 7,
   "metadata": {},
   "outputs": [],
   "source": [
    "G = nx.erdos_renyi_graph(5, 0.7, seed=0, directed=True)\n",
    "for u, v in G.edges():\n",
    "    G[u][v]['weight'] = np.random.randint(1, 10)"
   ]
  },
  {
   "cell_type": "code",
   "execution_count": null,
   "metadata": {},
   "outputs": [],
   "source": [
    "pos = nx.spring_layout(G, seed=1)\n",
    "nx.draw_networkx(G, pos, with_labels=True)\n",
    "labels = nx.get_edge_attributes(G, 'weight')\n",
    "nx.draw_networkx_edge_labels(G, pos, edge_labels=labels)\n",
    "plt.show()"
   ]
  },
  {
   "cell_type": "code",
   "execution_count": 56,
   "metadata": {},
   "outputs": [],
   "source": [
    "def all_pairs_shortest_paths(G):\n",
    "    n = G.number_of_nodes()\n",
    "    dist = {}\n",
    "    for u in G.nodes():\n",
    "        for v in G.nodes():\n",
    "            dist[(u, v, 0)] = float('inf')\n",
    "    for u, v in G.edges():\n",
    "        dist[(u, v, 0)] = G[u][v]['weight']\n",
    "    for k in range(1, n):\n",
    "        for u in G.nodes():\n",
    "            for v in G.nodes():\n",
    "                dist[(u, v, k)] = min(dist[(u, v, k-1)], dist[(u, k, k-1)] + dist[(k, v, k-1)])\n",
    "    return dist"
   ]
  },
  {
   "cell_type": "code",
   "execution_count": null,
   "metadata": {},
   "outputs": [],
   "source": [
    "k = 2\n",
    "shortest_paths = all_pairs_shortest_paths(G)\n",
    "for u in G.nodes():\n",
    "    for v in G.nodes():\n",
    "        print(f\"Dist from {u} to {v} using only nodes 1 thru {k} is {shortest_paths[(u, v, k)]}\")"
   ]
  },
  {
   "cell_type": "markdown",
   "metadata": {},
   "source": [
    "### Longest Increasing Subsequence"
   ]
  },
  {
   "cell_type": "code",
   "execution_count": 58,
   "metadata": {},
   "outputs": [],
   "source": [
    "arr = [5, 2, 8, 6, 3, 6, 9, 7]"
   ]
  },
  {
   "cell_type": "code",
   "execution_count": 59,
   "metadata": {},
   "outputs": [],
   "source": [
    "def longest_increasing_subsequence(arr):\n",
    "    n = len(arr)\n",
    "    dp = [1] * n\n",
    "    for i in range(1, n):\n",
    "        for j in range(i):\n",
    "            if arr[i] > arr[j]:\n",
    "                dp[i] = max(dp[i], dp[j] + 1)\n",
    "    return max(dp)"
   ]
  },
  {
   "cell_type": "code",
   "execution_count": null,
   "metadata": {},
   "outputs": [],
   "source": [
    "lis = longest_increasing_subsequence(arr)\n",
    "print(f\"The length of the longest increasing subsequence is {lis}\")"
   ]
  },
  {
   "cell_type": "markdown",
   "metadata": {},
   "source": [
    "### Knapsack"
   ]
  },
  {
   "cell_type": "code",
   "execution_count": 61,
   "metadata": {},
   "outputs": [],
   "source": [
    "weights = [10, 20, 30, 50, 10]\n",
    "values = [30, 20, 10, 60, 20]"
   ]
  },
  {
   "cell_type": "markdown",
   "metadata": {},
   "source": [
    "#### With Repetition"
   ]
  },
  {
   "cell_type": "code",
   "execution_count": 62,
   "metadata": {},
   "outputs": [],
   "source": [
    "def knapsack_repeat(weights, values, capacity):\n",
    "    dp = [0] * (capacity + 1)\n",
    "    for i in range(1, capacity + 1):\n",
    "        for j in range(len(weights)):\n",
    "            if weights[j] <= i:\n",
    "                dp[i] = max(dp[i], dp[i - weights[j]] + values[j])\n",
    "    return dp[capacity]"
   ]
  },
  {
   "cell_type": "code",
   "execution_count": null,
   "metadata": {},
   "outputs": [],
   "source": [
    "capacity = 50\n",
    "\n",
    "best_repeat = knapsack_repeat(weights, values, capacity)\n",
    "print(f\"The best value for the knapsack problem with repetition and {capacity} capacity is {best_repeat}\")"
   ]
  },
  {
   "cell_type": "markdown",
   "metadata": {},
   "source": [
    "#### Without Repetition"
   ]
  },
  {
   "cell_type": "code",
   "execution_count": 64,
   "metadata": {},
   "outputs": [],
   "source": [
    "def knapsack_no_repeat(weights, values, capacity):\n",
    "    n = len(weights)\n",
    "    dp = {}\n",
    "    # base cases\n",
    "    for i in range(n + 1):\n",
    "        dp[(i, 0)] = 0\n",
    "    for i in range(capacity + 1):\n",
    "        dp[(0, i)] = 0\n",
    "    for i in range(1, n + 1):\n",
    "        for j in range(1, capacity + 1):\n",
    "            if weights[i - 1] <= j: # only if the current item can fit\n",
    "                dp[(i, j)] = max(dp[(i - 1, j)], dp[(i - 1, j - weights[i - 1])] + values[i - 1])\n",
    "            else:\n",
    "                dp[(i, j)] = dp[(i - 1, j)]\n",
    "    return dp[(n, capacity)]"
   ]
  },
  {
   "cell_type": "code",
   "execution_count": null,
   "metadata": {},
   "outputs": [],
   "source": [
    "capacity = 50\n",
    "\n",
    "best_no_repeat = knapsack_no_repeat(weights, values, capacity)\n",
    "print(f\"The best value for the knapsack problem with no repetition and {capacity} capacity is {best_no_repeat}\")"
   ]
  }
 ],
 "metadata": {
  "kernelspec": {
   "display_name": "cs170-fa24",
   "language": "python",
   "name": "python3"
  },
  "language_info": {
   "codemirror_mode": {
    "name": "ipython",
    "version": 3
   },
   "file_extension": ".py",
   "mimetype": "text/x-python",
   "name": "python",
   "nbconvert_exporter": "python",
   "pygments_lexer": "ipython3",
   "version": "3.12.7"
  }
 },
 "nbformat": 4,
 "nbformat_minor": 2
}
